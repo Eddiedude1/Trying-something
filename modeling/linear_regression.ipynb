{
 "cells": [
  {
   "cell_type": "code",
   "execution_count": 24,
   "metadata": {},
   "outputs": [],
   "source": [
    "import numpy as np\n",
    "import pandas as pd\n",
    "import matplotlib.pyplot as plt\n",
    "import seaborn as sns\n",
    "from sklearn.linear_model import LinearRegression\n",
    "from sklearn.preprocessing import StandardScaler\n",
    "from sklearn.cross_validation import cross_val_score, train_test_split\n",
    "from sklearn.metrics import adjusted_rand_score"
   ]
  },
  {
   "cell_type": "code",
   "execution_count": 6,
   "metadata": {},
   "outputs": [
    {
     "name": "stdout",
     "output_type": "stream",
     "text": [
      "Indeed_DS_Exercise.zip        train_features_2013-03-07.csv\r\n",
      "salary_data.csv               train_salaries_2013-03-07.csv\r\n",
      "test_features_2013-03-07.csv\r\n"
     ]
    }
   ],
   "source": [
    "# verifying CSV file location\n",
    "!ls ../indeed_data_science_exercise/"
   ]
  },
  {
   "cell_type": "code",
   "execution_count": 12,
   "metadata": {},
   "outputs": [],
   "source": [
    "df = pd.read_csv('../indeed_data_science_exercise/salary_data.csv', index_col=0)"
   ]
  },
  {
   "cell_type": "code",
   "execution_count": 29,
   "metadata": {},
   "outputs": [
    {
     "data": {
      "text/html": [
       "<div>\n",
       "<style scoped>\n",
       "    .dataframe tbody tr th:only-of-type {\n",
       "        vertical-align: middle;\n",
       "    }\n",
       "\n",
       "    .dataframe tbody tr th {\n",
       "        vertical-align: top;\n",
       "    }\n",
       "\n",
       "    .dataframe thead th {\n",
       "        text-align: right;\n",
       "    }\n",
       "</style>\n",
       "<table border=\"1\" class=\"dataframe\">\n",
       "  <thead>\n",
       "    <tr style=\"text-align: right;\">\n",
       "      <th></th>\n",
       "      <th>jobId</th>\n",
       "      <th>salary</th>\n",
       "      <th>companyId</th>\n",
       "      <th>jobType</th>\n",
       "      <th>degree</th>\n",
       "      <th>major</th>\n",
       "      <th>industry</th>\n",
       "      <th>yearsExperience</th>\n",
       "      <th>milesFromMetropolis</th>\n",
       "      <th>companyId_COMP0</th>\n",
       "      <th>...</th>\n",
       "      <th>major_MATH</th>\n",
       "      <th>major_NONE</th>\n",
       "      <th>major_PHYSICS</th>\n",
       "      <th>industry_AUTO</th>\n",
       "      <th>industry_EDUCATION</th>\n",
       "      <th>industry_FINANCE</th>\n",
       "      <th>industry_HEALTH</th>\n",
       "      <th>industry_OIL</th>\n",
       "      <th>industry_SERVICE</th>\n",
       "      <th>industry_WEB</th>\n",
       "    </tr>\n",
       "  </thead>\n",
       "  <tbody>\n",
       "    <tr>\n",
       "      <th>0</th>\n",
       "      <td>JOB1362684407687</td>\n",
       "      <td>130</td>\n",
       "      <td>COMP37</td>\n",
       "      <td>CFO</td>\n",
       "      <td>MASTERS</td>\n",
       "      <td>MATH</td>\n",
       "      <td>HEALTH</td>\n",
       "      <td>10</td>\n",
       "      <td>83</td>\n",
       "      <td>0</td>\n",
       "      <td>...</td>\n",
       "      <td>1</td>\n",
       "      <td>0</td>\n",
       "      <td>0</td>\n",
       "      <td>0</td>\n",
       "      <td>0</td>\n",
       "      <td>0</td>\n",
       "      <td>1</td>\n",
       "      <td>0</td>\n",
       "      <td>0</td>\n",
       "      <td>0</td>\n",
       "    </tr>\n",
       "    <tr>\n",
       "      <th>1</th>\n",
       "      <td>JOB1362684407688</td>\n",
       "      <td>101</td>\n",
       "      <td>COMP19</td>\n",
       "      <td>CEO</td>\n",
       "      <td>HIGH_SCHOOL</td>\n",
       "      <td>NONE</td>\n",
       "      <td>WEB</td>\n",
       "      <td>3</td>\n",
       "      <td>73</td>\n",
       "      <td>0</td>\n",
       "      <td>...</td>\n",
       "      <td>0</td>\n",
       "      <td>1</td>\n",
       "      <td>0</td>\n",
       "      <td>0</td>\n",
       "      <td>0</td>\n",
       "      <td>0</td>\n",
       "      <td>0</td>\n",
       "      <td>0</td>\n",
       "      <td>0</td>\n",
       "      <td>1</td>\n",
       "    </tr>\n",
       "    <tr>\n",
       "      <th>2</th>\n",
       "      <td>JOB1362684407689</td>\n",
       "      <td>137</td>\n",
       "      <td>COMP52</td>\n",
       "      <td>VICE_PRESIDENT</td>\n",
       "      <td>DOCTORAL</td>\n",
       "      <td>PHYSICS</td>\n",
       "      <td>HEALTH</td>\n",
       "      <td>10</td>\n",
       "      <td>38</td>\n",
       "      <td>0</td>\n",
       "      <td>...</td>\n",
       "      <td>0</td>\n",
       "      <td>0</td>\n",
       "      <td>1</td>\n",
       "      <td>0</td>\n",
       "      <td>0</td>\n",
       "      <td>0</td>\n",
       "      <td>1</td>\n",
       "      <td>0</td>\n",
       "      <td>0</td>\n",
       "      <td>0</td>\n",
       "    </tr>\n",
       "    <tr>\n",
       "      <th>3</th>\n",
       "      <td>JOB1362684407690</td>\n",
       "      <td>142</td>\n",
       "      <td>COMP38</td>\n",
       "      <td>MANAGER</td>\n",
       "      <td>DOCTORAL</td>\n",
       "      <td>CHEMISTRY</td>\n",
       "      <td>AUTO</td>\n",
       "      <td>8</td>\n",
       "      <td>17</td>\n",
       "      <td>0</td>\n",
       "      <td>...</td>\n",
       "      <td>0</td>\n",
       "      <td>0</td>\n",
       "      <td>0</td>\n",
       "      <td>1</td>\n",
       "      <td>0</td>\n",
       "      <td>0</td>\n",
       "      <td>0</td>\n",
       "      <td>0</td>\n",
       "      <td>0</td>\n",
       "      <td>0</td>\n",
       "    </tr>\n",
       "    <tr>\n",
       "      <th>4</th>\n",
       "      <td>JOB1362684407691</td>\n",
       "      <td>163</td>\n",
       "      <td>COMP7</td>\n",
       "      <td>VICE_PRESIDENT</td>\n",
       "      <td>BACHELORS</td>\n",
       "      <td>PHYSICS</td>\n",
       "      <td>FINANCE</td>\n",
       "      <td>8</td>\n",
       "      <td>16</td>\n",
       "      <td>0</td>\n",
       "      <td>...</td>\n",
       "      <td>0</td>\n",
       "      <td>0</td>\n",
       "      <td>1</td>\n",
       "      <td>0</td>\n",
       "      <td>0</td>\n",
       "      <td>1</td>\n",
       "      <td>0</td>\n",
       "      <td>0</td>\n",
       "      <td>0</td>\n",
       "      <td>0</td>\n",
       "    </tr>\n",
       "  </tbody>\n",
       "</table>\n",
       "<p>5 rows × 101 columns</p>\n",
       "</div>"
      ],
      "text/plain": [
       "              jobId  salary companyId         jobType       degree      major  \\\n",
       "0  JOB1362684407687     130    COMP37             CFO      MASTERS       MATH   \n",
       "1  JOB1362684407688     101    COMP19             CEO  HIGH_SCHOOL       NONE   \n",
       "2  JOB1362684407689     137    COMP52  VICE_PRESIDENT     DOCTORAL    PHYSICS   \n",
       "3  JOB1362684407690     142    COMP38         MANAGER     DOCTORAL  CHEMISTRY   \n",
       "4  JOB1362684407691     163     COMP7  VICE_PRESIDENT    BACHELORS    PHYSICS   \n",
       "\n",
       "  industry  yearsExperience  milesFromMetropolis  companyId_COMP0  \\\n",
       "0   HEALTH               10                   83                0   \n",
       "1      WEB                3                   73                0   \n",
       "2   HEALTH               10                   38                0   \n",
       "3     AUTO                8                   17                0   \n",
       "4  FINANCE                8                   16                0   \n",
       "\n",
       "       ...       major_MATH  major_NONE  major_PHYSICS  industry_AUTO  \\\n",
       "0      ...                1           0              0              0   \n",
       "1      ...                0           1              0              0   \n",
       "2      ...                0           0              1              0   \n",
       "3      ...                0           0              0              1   \n",
       "4      ...                0           0              1              0   \n",
       "\n",
       "   industry_EDUCATION  industry_FINANCE  industry_HEALTH  industry_OIL  \\\n",
       "0                   0                 0                1             0   \n",
       "1                   0                 0                0             0   \n",
       "2                   0                 0                1             0   \n",
       "3                   0                 0                0             0   \n",
       "4                   0                 1                0             0   \n",
       "\n",
       "   industry_SERVICE  industry_WEB  \n",
       "0                 0             0  \n",
       "1                 0             1  \n",
       "2                 0             0  \n",
       "3                 0             0  \n",
       "4                 0             0  \n",
       "\n",
       "[5 rows x 101 columns]"
      ]
     },
     "execution_count": 29,
     "metadata": {},
     "output_type": "execute_result"
    }
   ],
   "source": [
    "df.head()"
   ]
  },
  {
   "cell_type": "code",
   "execution_count": 32,
   "metadata": {},
   "outputs": [],
   "source": [
    "# X not including target, companyId and all encoded columns\n",
    "X = df.drop(['jobId', 'companyId', 'salary', 'jobType', 'degree', 'major', \n",
    "                    'industry'], axis=1)\n",
    "# salary is the target\n",
    "y = df['salary']"
   ]
  },
  {
   "cell_type": "code",
   "execution_count": 34,
   "metadata": {},
   "outputs": [],
   "source": [
    "X_train, X_test, y_train, y_test = train_test_split(X, y, test_size=0.30, random_state=42)"
   ]
  },
  {
   "cell_type": "code",
   "execution_count": 43,
   "metadata": {},
   "outputs": [],
   "source": [
    "# Standardize X_train and X_test to transform yearsExperience and milesFromMetropolis to the same scale\n",
    "ss = StandardScaler()\n",
    "X_train_ss = ss.fit_transform(X_train)\n",
    "X_test_ss = ss.fit_transform(X_test)"
   ]
  },
  {
   "cell_type": "code",
   "execution_count": 75,
   "metadata": {},
   "outputs": [
    {
     "name": "stdout",
     "output_type": "stream",
     "text": [
      "Linear Regression Model R2 = 0.744 +/- 0.00468 3 std =\n"
     ]
    }
   ],
   "source": [
    "lr = LinearRegression(n_jobs=2)\n",
    "lr = lr.fit(X_train_ss, y_train)\n",
    "print('Linear Regression Model R2 = {:.3} +/- {:.3} 3 std ='.format(cross_val_score(lr, \n",
    "                                                                                X_test_ss, y_test, \n",
    "                                                                                cv = 10).mean(),\n",
    "                                                               (cross_val_score(lr, X_test_ss, y_test, \n",
    "                                                                                cv = 10).std()*3)))"
   ]
  },
  {
   "cell_type": "code",
   "execution_count": 57,
   "metadata": {},
   "outputs": [],
   "source": [
    "features = pd.Series(X_train.columns.tolist())\n",
    "coef = pd.Series(lr.coef_)"
   ]
  },
  {
   "cell_type": "code",
   "execution_count": 69,
   "metadata": {},
   "outputs": [],
   "source": [
    "fi = pd.concat([features, coef], axis=1, keys=['feature', 'beta']).set_index('feature')"
   ]
  },
  {
   "cell_type": "code",
   "execution_count": 79,
   "metadata": {},
   "outputs": [],
   "source": [
    "fi['abs_beta'] = abs(fi['beta'])"
   ]
  },
  {
   "cell_type": "code",
   "execution_count": 83,
   "metadata": {},
   "outputs": [
    {
     "data": {
      "text/plain": [
       "feature\n",
       "yearsExperience           4.147472e+13\n",
       "milesFromMetropolis       4.146661e+13\n",
       "companyId_COMP0           3.712323e+13\n",
       "companyId_COMP1           3.711040e+13\n",
       "companyId_COMP10          3.707851e+13\n",
       "companyId_COMP11          9.402836e+12\n",
       "companyId_COMP12          4.822366e+12\n",
       "companyId_COMP13          4.821786e+12\n",
       "companyId_COMP14          4.819682e+12\n",
       "companyId_COMP15          4.816472e+12\n",
       "companyId_COMP16          4.815810e+12\n",
       "companyId_COMP17          4.812012e+12\n",
       "companyId_COMP18          4.809256e+12\n",
       "companyId_COMP19          4.434845e+12\n",
       "companyId_COMP2           4.428076e+12\n",
       "companyId_COMP20          4.426660e+12\n",
       "companyId_COMP21          4.421345e+12\n",
       "companyId_COMP22          4.420179e+12\n",
       "companyId_COMP23          4.419571e+12\n",
       "companyId_COMP24          4.418659e+12\n",
       "companyId_COMP25          4.410334e+12\n",
       "companyId_COMP26          3.971615e+12\n",
       "companyId_COMP27          3.968523e+12\n",
       "companyId_COMP28          3.962504e+12\n",
       "companyId_COMP29          3.960610e+12\n",
       "companyId_COMP3           3.956130e+12\n",
       "companyId_COMP30          3.954923e+12\n",
       "companyId_COMP31          3.949227e+12\n",
       "companyId_COMP32          3.948882e+12\n",
       "companyId_COMP33          3.947845e+12\n",
       "                              ...     \n",
       "companyId_COMP9           3.914693e+12\n",
       "jobType_CEO               3.914344e+12\n",
       "jobType_CFO               3.913821e+12\n",
       "jobType_CTO               3.912425e+12\n",
       "jobType_JANITOR           3.910855e+12\n",
       "jobType_JUNIOR            3.910680e+12\n",
       "jobType_MANAGER           3.909458e+12\n",
       "jobType_SENIOR            3.909109e+12\n",
       "jobType_VICE_PRESIDENT    3.908410e+12\n",
       "degree_BACHELORS          3.908236e+12\n",
       "degree_DOCTORAL           3.905615e+12\n",
       "degree_HIGH_SCHOOL        3.905265e+12\n",
       "degree_MASTERS            3.904041e+12\n",
       "degree_NONE               3.902467e+12\n",
       "major_BIOLOGY             3.901767e+12\n",
       "major_BUSINESS            3.900017e+12\n",
       "major_CHEMISTRY           3.898616e+12\n",
       "major_COMPSCI             3.897390e+12\n",
       "major_ENGINEERING         3.894586e+12\n",
       "major_LITERATURE          3.878773e+12\n",
       "major_MATH                1.154103e+01\n",
       "major_NONE                1.447963e+01\n",
       "major_PHYSICS             7.422016e+11\n",
       "industry_AUTO             7.428346e+11\n",
       "industry_EDUCATION        7.433572e+11\n",
       "industry_FINANCE          7.435653e+11\n",
       "industry_HEALTH           7.436236e+11\n",
       "industry_OIL              7.443055e+11\n",
       "industry_SERVICE          7.456551e+11\n",
       "industry_WEB              7.476224e+11\n",
       "Name: abs_beta, Length: 94, dtype: float64"
      ]
     },
     "execution_count": 83,
     "metadata": {},
     "output_type": "execute_result"
    }
   ],
   "source": [
    "fi['abs_beta']"
   ]
  },
  {
   "cell_type": "code",
   "execution_count": 82,
   "metadata": {},
   "outputs": [
    {
     "ename": "ValueError",
     "evalue": "No axis named abs_beta for object type <class 'pandas.core.series.Series'>",
     "output_type": "error",
     "traceback": [
      "\u001b[0;31m---------------------------------------------------------------------------\u001b[0m",
      "\u001b[0;31mValueError\u001b[0m                                Traceback (most recent call last)",
      "\u001b[0;32m<ipython-input-82-d18190b17a5b>\u001b[0m in \u001b[0;36m<module>\u001b[0;34m()\u001b[0m\n\u001b[0;32m----> 1\u001b[0;31m \u001b[0mfi\u001b[0m\u001b[0;34m[\u001b[0m\u001b[0;34m'abs_beta'\u001b[0m\u001b[0;34m]\u001b[0m\u001b[0;34m.\u001b[0m\u001b[0msort_values\u001b[0m\u001b[0;34m(\u001b[0m\u001b[0;34m'abs_beta'\u001b[0m\u001b[0;34m,\u001b[0m \u001b[0mascending\u001b[0m\u001b[0;34m=\u001b[0m\u001b[0;32mFalse\u001b[0m\u001b[0;34m)\u001b[0m\u001b[0;34m[\u001b[0m\u001b[0;34m:\u001b[0m\u001b[0;36m10\u001b[0m\u001b[0;34m]\u001b[0m\u001b[0;34m.\u001b[0m\u001b[0mplot\u001b[0m\u001b[0;34m(\u001b[0m\u001b[0mkind\u001b[0m\u001b[0;34m=\u001b[0m\u001b[0;34m'bar'\u001b[0m\u001b[0;34m)\u001b[0m\u001b[0;34m\u001b[0m\u001b[0m\n\u001b[0m",
      "\u001b[0;32m~/miniconda3/envs/ga/lib/python3.6/site-packages/pandas/core/series.py\u001b[0m in \u001b[0;36msort_values\u001b[0;34m(self, axis, ascending, inplace, kind, na_position)\u001b[0m\n\u001b[1;32m   1877\u001b[0m \u001b[0;34m\u001b[0m\u001b[0m\n\u001b[1;32m   1878\u001b[0m         \u001b[0minplace\u001b[0m \u001b[0;34m=\u001b[0m \u001b[0mvalidate_bool_kwarg\u001b[0m\u001b[0;34m(\u001b[0m\u001b[0minplace\u001b[0m\u001b[0;34m,\u001b[0m \u001b[0;34m'inplace'\u001b[0m\u001b[0;34m)\u001b[0m\u001b[0;34m\u001b[0m\u001b[0m\n\u001b[0;32m-> 1879\u001b[0;31m         \u001b[0maxis\u001b[0m \u001b[0;34m=\u001b[0m \u001b[0mself\u001b[0m\u001b[0;34m.\u001b[0m\u001b[0m_get_axis_number\u001b[0m\u001b[0;34m(\u001b[0m\u001b[0maxis\u001b[0m\u001b[0;34m)\u001b[0m\u001b[0;34m\u001b[0m\u001b[0m\n\u001b[0m\u001b[1;32m   1880\u001b[0m \u001b[0;34m\u001b[0m\u001b[0m\n\u001b[1;32m   1881\u001b[0m         \u001b[0;31m# GH 5856/5853\u001b[0m\u001b[0;34m\u001b[0m\u001b[0;34m\u001b[0m\u001b[0m\n",
      "\u001b[0;32m~/miniconda3/envs/ga/lib/python3.6/site-packages/pandas/core/generic.py\u001b[0m in \u001b[0;36m_get_axis_number\u001b[0;34m(self, axis)\u001b[0m\n\u001b[1;32m    355\u001b[0m                 \u001b[0;32mpass\u001b[0m\u001b[0;34m\u001b[0m\u001b[0m\n\u001b[1;32m    356\u001b[0m         raise ValueError('No axis named {0} for object type {1}'\n\u001b[0;32m--> 357\u001b[0;31m                          .format(axis, type(self)))\n\u001b[0m\u001b[1;32m    358\u001b[0m \u001b[0;34m\u001b[0m\u001b[0m\n\u001b[1;32m    359\u001b[0m     \u001b[0;32mdef\u001b[0m \u001b[0m_get_axis_name\u001b[0m\u001b[0;34m(\u001b[0m\u001b[0mself\u001b[0m\u001b[0;34m,\u001b[0m \u001b[0maxis\u001b[0m\u001b[0;34m)\u001b[0m\u001b[0;34m:\u001b[0m\u001b[0;34m\u001b[0m\u001b[0m\n",
      "\u001b[0;31mValueError\u001b[0m: No axis named abs_beta for object type <class 'pandas.core.series.Series'>"
     ]
    }
   ],
   "source": [
    "fi['abs_beta'].sort_values('abs_beta', ascending=False)[:10].plot(kind='bar')"
   ]
  },
  {
   "cell_type": "code",
   "execution_count": null,
   "metadata": {},
   "outputs": [],
   "source": []
  },
  {
   "cell_type": "code",
   "execution_count": 56,
   "metadata": {},
   "outputs": [
    {
     "data": {
      "text/plain": [
       "array([-4.14747187e+13, -4.14666089e+13, -3.71232285e+13, -3.71103973e+13,\n",
       "       -3.70785113e+13, -9.40283646e+12, -4.82236636e+12, -4.82178559e+12,\n",
       "       -4.81968165e+12, -4.81647217e+12, -4.81580969e+12, -4.81201206e+12,\n",
       "       -4.80925561e+12, -4.43484467e+12, -4.42807600e+12, -4.42665998e+12,\n",
       "       -4.42134469e+12, -4.42017930e+12, -4.41957111e+12, -4.41865862e+12,\n",
       "       -4.41033373e+12, -3.97161477e+12, -3.96852302e+12, -3.96250389e+12,\n",
       "       -3.96061015e+12, -3.95613018e+12, -3.95492311e+12, -3.94922733e+12,\n",
       "       -3.94888185e+12, -3.94784522e+12, -3.94611684e+12, -3.94300373e+12,\n",
       "       -3.94075375e+12, -3.93971483e+12, -3.93954165e+12, -3.93832915e+12,\n",
       "       -3.93746283e+12, -3.93676963e+12, -3.93538285e+12, -3.93538285e+12,\n",
       "       -3.93520946e+12, -3.93486267e+12, -3.93434242e+12, -3.93399554e+12,\n",
       "       -3.93278122e+12, -3.92965683e+12, -3.92930952e+12, -3.92913584e+12,\n",
       "       -3.92861478e+12, -3.92826737e+12, -3.92757244e+12, -3.92722492e+12,\n",
       "       -3.92722492e+12, -3.92687738e+12, -3.92635600e+12, -3.92409582e+12,\n",
       "       -3.92131216e+12, -3.92096405e+12, -3.91991954e+12, -3.91922303e+12,\n",
       "       -3.91835221e+12, -3.91800382e+12, -3.91538987e+12, -3.91469250e+12,\n",
       "       -3.91469250e+12, -3.91434377e+12, -3.91382061e+12, -3.91242514e+12,\n",
       "       -3.91085461e+12, -3.91068007e+12, -3.90945802e+12, -3.90910879e+12,\n",
       "       -3.90841022e+12, -3.90823556e+12, -3.90561464e+12, -3.90526504e+12,\n",
       "       -3.90404119e+12, -3.90246706e+12, -3.90176723e+12, -3.90001707e+12,\n",
       "       -3.89861634e+12, -3.89739025e+12, -3.89458624e+12, -3.87877341e+12,\n",
       "       -1.15410306e+01,  1.44796322e+01,  7.42201625e+11,  7.42834637e+11,\n",
       "        7.43357157e+11,  7.43565253e+11,  7.43623647e+11,  7.44305527e+11,\n",
       "        7.45655066e+11,  7.47622447e+11])"
      ]
     },
     "execution_count": 56,
     "metadata": {},
     "output_type": "execute_result"
    }
   ],
   "source": [
    "lr.coef_"
   ]
  },
  {
   "cell_type": "code",
   "execution_count": null,
   "metadata": {},
   "outputs": [],
   "source": []
  }
 ],
 "metadata": {
  "kernelspec": {
   "display_name": "Python 3",
   "language": "python",
   "name": "python3"
  },
  "language_info": {
   "codemirror_mode": {
    "name": "ipython",
    "version": 3
   },
   "file_extension": ".py",
   "mimetype": "text/x-python",
   "name": "python",
   "nbconvert_exporter": "python",
   "pygments_lexer": "ipython3",
   "version": "3.6.4"
  }
 },
 "nbformat": 4,
 "nbformat_minor": 2
}
